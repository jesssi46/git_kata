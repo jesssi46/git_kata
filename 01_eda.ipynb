{
 "cells": [
  {
   "cell_type": "code",
   "execution_count": 9,
   "metadata": {},
   "outputs": [],
   "source": [
    "%reload_ext autoreload \n",
    "%autoreload 2 "
   ]
  },
  {
   "cell_type": "code",
   "execution_count": 14,
   "metadata": {},
   "outputs": [],
   "source": [
    "from utils import load_titanic_female\n",
    "filepath= 'C:/Users/jessi/Documents/UNI/Master/2. Semester/Enterprise Architectures for Big Data/git_kata/data/titanic.csv'\n",
    "female_passengers = load_titanic_female(filepath)"
   ]
  },
  {
   "cell_type": "code",
   "execution_count": 15,
   "metadata": {},
   "outputs": [
    {
     "name": "stdout",
     "output_type": "stream",
     "text": [
      "    pclass  survived                                               name  \\\n",
      "0        1         1                      Allen, Miss. Elisabeth Walton   \n",
      "2        1         0                       Allison, Miss. Helen Loraine   \n",
      "4        1         0    Allison, Mrs. Hudson J C (Bessie Waldo Daniels)   \n",
      "6        1         1                  Andrews, Miss. Kornelia Theodosia   \n",
      "8        1         1      Appleton, Mrs. Edward Dale (Charlotte Lamson)   \n",
      "11       1         1  Astor, Mrs. John Jacob (Madeleine Talmadge Force)   \n",
      "12       1         1                      Aubart, Mme. Leontine Pauline   \n",
      "13       1         1                       Barber, Miss. Ellen \"Nellie\"   \n",
      "17       1         1    Baxter, Mrs. James (Helene DeLaudeniere Chaput)   \n",
      "18       1         1                              Bazzani, Miss. Albina   \n",
      "\n",
      "       sex   age  sibsp  parch    ticket      fare    cabin embarked boat  \\\n",
      "0   female  29.0      0      0     24160  211.3375       B5        S    2   \n",
      "2   female   2.0      1      2    113781  151.5500  C22 C26        S  NaN   \n",
      "4   female  25.0      1      2    113781  151.5500  C22 C26        S  NaN   \n",
      "6   female  63.0      1      0     13502   77.9583       D7        S   10   \n",
      "8   female  53.0      2      0     11769   51.4792     C101        S    D   \n",
      "11  female  18.0      1      0  PC 17757  227.5250  C62 C64        C    4   \n",
      "12  female  24.0      0      0  PC 17477   69.3000      B35        C    9   \n",
      "13  female  26.0      0      0     19877   78.8500      NaN        S    6   \n",
      "17  female  50.0      0      1  PC 17558  247.5208  B58 B60        C    6   \n",
      "18  female  32.0      0      0     11813   76.2917      D15        C    8   \n",
      "\n",
      "    body                        home.dest  \n",
      "0    NaN                     St Louis, MO  \n",
      "2    NaN  Montreal, PQ / Chesterville, ON  \n",
      "4    NaN  Montreal, PQ / Chesterville, ON  \n",
      "6    NaN                       Hudson, NY  \n",
      "8    NaN              Bayside, Queens, NY  \n",
      "11   NaN                     New York, NY  \n",
      "12   NaN                    Paris, France  \n",
      "13   NaN                              NaN  \n",
      "17   NaN                     Montreal, PQ  \n",
      "18   NaN                              NaN  \n"
     ]
    }
   ],
   "source": [
    "print(female_passengers.head(10))\n"
   ]
  }
 ],
 "metadata": {
  "kernelspec": {
   "display_name": "venv",
   "language": "python",
   "name": "python3"
  },
  "language_info": {
   "codemirror_mode": {
    "name": "ipython",
    "version": 3
   },
   "file_extension": ".py",
   "mimetype": "text/x-python",
   "name": "python",
   "nbconvert_exporter": "python",
   "pygments_lexer": "ipython3",
   "version": "3.11.9"
  }
 },
 "nbformat": 4,
 "nbformat_minor": 2
}
