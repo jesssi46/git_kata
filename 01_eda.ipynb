{
 "cells": [
  {
   "cell_type": "code",
   "execution_count": 4,
   "metadata": {},
   "outputs": [],
   "source": [
    "%reload_ext autoreload \n",
    "%autoreload 2 "
   ]
  },
  {
   "cell_type": "code",
   "execution_count": 5,
   "metadata": {},
   "outputs": [],
   "source": [
    "from utils import load_titanic_men\n",
    "filepath= 'C:/Users/jessi/Documents/UNI/Master/2. Semester/Enterprise Architectures for Big Data/git_kata/data/titanic.csv'\n",
    "men_passengers = load_titanic_men(filepath)"
   ]
  },
  {
   "cell_type": "code",
   "execution_count": 6,
   "metadata": {},
   "outputs": [
    {
     "name": "stdout",
     "output_type": "stream",
     "text": [
      "    pclass  survived                                  name   sex      age  \\\n",
      "1        1         1        Allison, Master. Hudson Trevor  male   0.9167   \n",
      "3        1         0  Allison, Mr. Hudson Joshua Creighton  male  30.0000   \n",
      "5        1         1                   Anderson, Mr. Harry  male  48.0000   \n",
      "7        1         0                Andrews, Mr. Thomas Jr  male  39.0000   \n",
      "9        1         0               Artagaveytia, Mr. Ramon  male  71.0000   \n",
      "10       1         0                Astor, Col. John Jacob  male  47.0000   \n",
      "14       1         1  Barkworth, Mr. Algernon Henry Wilson  male  80.0000   \n",
      "15       1         0                   Baumann, Mr. John D  male      NaN   \n",
      "16       1         0              Baxter, Mr. Quigg Edmond  male  24.0000   \n",
      "19       1         0                  Beattie, Mr. Thomson  male  36.0000   \n",
      "\n",
      "    sibsp  parch    ticket      fare    cabin embarked boat   body  \\\n",
      "1       1      2    113781  151.5500  C22 C26        S   11    NaN   \n",
      "3       1      2    113781  151.5500  C22 C26        S  NaN  135.0   \n",
      "5       0      0     19952   26.5500      E12        S    3    NaN   \n",
      "7       0      0    112050    0.0000      A36        S  NaN    NaN   \n",
      "9       0      0  PC 17609   49.5042      NaN        C  NaN   22.0   \n",
      "10      1      0  PC 17757  227.5250  C62 C64        C  NaN  124.0   \n",
      "14      0      0     27042   30.0000      A23        S    B    NaN   \n",
      "15      0      0  PC 17318   25.9250      NaN        S  NaN    NaN   \n",
      "16      0      1  PC 17558  247.5208  B58 B60        C  NaN    NaN   \n",
      "19      0      0     13050   75.2417       C6        C    A    NaN   \n",
      "\n",
      "                          home.dest  \n",
      "1   Montreal, PQ / Chesterville, ON  \n",
      "3   Montreal, PQ / Chesterville, ON  \n",
      "5                      New York, NY  \n",
      "7                       Belfast, NI  \n",
      "9               Montevideo, Uruguay  \n",
      "10                     New York, NY  \n",
      "14                    Hessle, Yorks  \n",
      "15                     New York, NY  \n",
      "16                     Montreal, PQ  \n",
      "19                     Winnipeg, MN  \n"
     ]
    }
   ],
   "source": [
    "print(men_passengers.head(10))\n"
   ]
  }
 ],
 "metadata": {
  "kernelspec": {
   "display_name": "venv",
   "language": "python",
   "name": "python3"
  },
  "language_info": {
   "codemirror_mode": {
    "name": "ipython",
    "version": 3
   },
   "file_extension": ".py",
   "mimetype": "text/x-python",
   "name": "python",
   "nbconvert_exporter": "python",
   "pygments_lexer": "ipython3",
   "version": "3.11.9"
  }
 },
 "nbformat": 4,
 "nbformat_minor": 2
}
